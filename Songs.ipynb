{
 "cells": [
  {
   "cell_type": "code",
   "execution_count": 186,
   "metadata": {},
   "outputs": [],
   "source": [
    "import json\n",
    "\n",
    "# Load the JSON data from the file\n",
    "with open('SBPBackup20241223.json', 'r') as file:\n",
    "    data = json.load(file)"
   ]
  },
  {
   "cell_type": "code",
   "execution_count": 187,
   "metadata": {},
   "outputs": [],
   "source": [
    "my_songs =[]\n",
    "\n",
    "for song in data['songs']:\n",
    "    my_songs.append(dict(\n",
    "                         id=song['Id']\n",
    "                        ,artist=song['author']\n",
    "                        ,title=song['name']\n",
    "                        )\n",
    "                    )"
   ]
  },
  {
   "cell_type": "code",
   "execution_count": 188,
   "metadata": {},
   "outputs": [],
   "source": [
    "my_sets = []\n",
    "\n",
    "for set in data['sets']:\n",
    "    my_sets.append(dict(\n",
    "                         id=set['details']['Id']\n",
    "                        ,name=set['details']['name']\n",
    "                        ,date=set['details']['date']\n",
    "                        )\n",
    "                    )"
   ]
  },
  {
   "cell_type": "code",
   "execution_count": null,
   "metadata": {},
   "outputs": [],
   "source": [
    "print(type(data['sets'][0]['contents'][0]))\n",
    "print(data['sets'][0]['contents'][0])"
   ]
  },
  {
   "cell_type": "code",
   "execution_count": 190,
   "metadata": {},
   "outputs": [],
   "source": [
    "my_set_songs = []\n",
    "song_i =0\n",
    "\n",
    "for set in data['sets']:\n",
    "    detailSetID = set['details']['Id']\n",
    "    detailSetName = set['details']['name']\n",
    "    song_i = 0    \n",
    "    for song in set['contents']:\n",
    "        song_i += 1\n",
    "        my_set_songs.append(dict(\n",
    "                                # setID=song['SetId']\n",
    "                                 setID = detailSetID\n",
    "                                ,setName = detailSetName\n",
    "                                ,songOrder=song['Order']\n",
    "                                ,songID=song['SongId']                        \n",
    "                                )\n",
    "                            )    "
   ]
  },
  {
   "cell_type": "code",
   "execution_count": null,
   "metadata": {},
   "outputs": [],
   "source": [
    "my_set_songs"
   ]
  },
  {
   "cell_type": "code",
   "execution_count": null,
   "metadata": {},
   "outputs": [],
   "source": [
    "print(my_songs)\n",
    "print(my_sets)\n",
    "print(my_set_songs)"
   ]
  }
 ],
 "metadata": {
  "kernelspec": {
   "display_name": "Python 3",
   "language": "python",
   "name": "python3"
  },
  "language_info": {
   "codemirror_mode": {
    "name": "ipython",
    "version": 3
   },
   "file_extension": ".py",
   "mimetype": "text/x-python",
   "name": "python",
   "nbconvert_exporter": "python",
   "pygments_lexer": "ipython3",
   "version": "3.12.4"
  }
 },
 "nbformat": 4,
 "nbformat_minor": 2
}
